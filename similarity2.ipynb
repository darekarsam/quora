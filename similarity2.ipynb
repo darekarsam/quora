{
 "cells": [
  {
   "cell_type": "code",
   "execution_count": 1,
   "metadata": {
    "collapsed": true
   },
   "outputs": [],
   "source": [
    "import pandas as pd\n",
    "from gensim import models\n",
    "import re\n",
    "import numpy as np\n",
    "from nltk.corpus import stopwords\n",
    "from nltk.stem import *"
   ]
  },
  {
   "cell_type": "code",
   "execution_count": 2,
   "metadata": {
    "collapsed": true
   },
   "outputs": [],
   "source": [
    "trainDF = pd.read_csv(\"Data/train.csv\")\n",
    "testDF = pd.read_csv(\"Data/test.csv\")\n",
    "\n",
    "trainDF.question1.fillna('abc', inplace=True)\n",
    "trainDF.question2.fillna('abc', inplace=True)"
   ]
  },
  {
   "cell_type": "code",
   "execution_count": 3,
   "metadata": {
    "collapsed": true
   },
   "outputs": [],
   "source": [
    "def cleanQuestion(question):\n",
    "    \"\"\"Functions to clean question pairs\n",
    "    \"\"\"\n",
    "    # convert to lower case\n",
    "    question = question.lower()\n",
    "#     question = question.replace()\n",
    "    question = question.decode('utf-8')\n",
    "    stop = stopwords.words('english')\n",
    "    stemmer = PorterStemmer()\n",
    "    questions = re.sub(r'[^\\x00-\\x7F]+', ' ', question, flags=re.MULTILINE)\n",
    "    question = ' '.join([word for word in question.split() if word not in stop])\n",
    "    question = ' '.join([stemmer.stem(word) for words in question.split()])\n",
    "    # remove extra spaces\n",
    "    question = re.sub(r'[\\s]+', ' ', question, flags=re.MULTILINE)\n",
    "    # remove all punctuations\n",
    "    question = re.sub(r'[^a-zA-Z]', ' ', question, flags=re.MULTILINE)\n",
    "    return question"
   ]
  },
  {
   "cell_type": "code",
   "execution_count": 4,
   "metadata": {
    "collapsed": true
   },
   "outputs": [],
   "source": [
    "def getLabeledSentence(questions, label):\n",
    "    labeledQuestions=[]\n",
    "    for uid, line in enumerate(questions):\n",
    "        labeledQuestions.append( models.doc2vec.LabeledSentence(words=line.split(), tags=[label+str(uid)]))\n",
    "    \n",
    "    return labeledQuestions"
   ]
  },
  {
   "cell_type": "code",
   "execution_count": 5,
   "metadata": {
    "collapsed": false
   },
   "outputs": [
    {
     "data": {
      "text/html": [
       "<div>\n",
       "<table border=\"1\" class=\"dataframe\">\n",
       "  <thead>\n",
       "    <tr style=\"text-align: right;\">\n",
       "      <th></th>\n",
       "      <th>id</th>\n",
       "      <th>qid1</th>\n",
       "      <th>qid2</th>\n",
       "      <th>question1</th>\n",
       "      <th>question2</th>\n",
       "      <th>is_duplicate</th>\n",
       "    </tr>\n",
       "  </thead>\n",
       "  <tbody>\n",
       "    <tr>\n",
       "      <th>0</th>\n",
       "      <td>0</td>\n",
       "      <td>1</td>\n",
       "      <td>2</td>\n",
       "      <td>What is the step by step guide to invest in sh...</td>\n",
       "      <td>What is the step by step guide to invest in sh...</td>\n",
       "      <td>0</td>\n",
       "    </tr>\n",
       "    <tr>\n",
       "      <th>1</th>\n",
       "      <td>1</td>\n",
       "      <td>3</td>\n",
       "      <td>4</td>\n",
       "      <td>What is the story of Kohinoor (Koh-i-Noor) Dia...</td>\n",
       "      <td>What would happen if the Indian government sto...</td>\n",
       "      <td>0</td>\n",
       "    </tr>\n",
       "    <tr>\n",
       "      <th>2</th>\n",
       "      <td>2</td>\n",
       "      <td>5</td>\n",
       "      <td>6</td>\n",
       "      <td>How can I increase the speed of my internet co...</td>\n",
       "      <td>How can Internet speed be increased by hacking...</td>\n",
       "      <td>0</td>\n",
       "    </tr>\n",
       "    <tr>\n",
       "      <th>3</th>\n",
       "      <td>3</td>\n",
       "      <td>7</td>\n",
       "      <td>8</td>\n",
       "      <td>Why am I mentally very lonely? How can I solve...</td>\n",
       "      <td>Find the remainder when [math]23^{24}[/math] i...</td>\n",
       "      <td>0</td>\n",
       "    </tr>\n",
       "    <tr>\n",
       "      <th>4</th>\n",
       "      <td>4</td>\n",
       "      <td>9</td>\n",
       "      <td>10</td>\n",
       "      <td>Which one dissolve in water quikly sugar, salt...</td>\n",
       "      <td>Which fish would survive in salt water?</td>\n",
       "      <td>0</td>\n",
       "    </tr>\n",
       "  </tbody>\n",
       "</table>\n",
       "</div>"
      ],
      "text/plain": [
       "   id  qid1  qid2                                          question1  \\\n",
       "0   0     1     2  What is the step by step guide to invest in sh...   \n",
       "1   1     3     4  What is the story of Kohinoor (Koh-i-Noor) Dia...   \n",
       "2   2     5     6  How can I increase the speed of my internet co...   \n",
       "3   3     7     8  Why am I mentally very lonely? How can I solve...   \n",
       "4   4     9    10  Which one dissolve in water quikly sugar, salt...   \n",
       "\n",
       "                                           question2  is_duplicate  \n",
       "0  What is the step by step guide to invest in sh...             0  \n",
       "1  What would happen if the Indian government sto...             0  \n",
       "2  How can Internet speed be increased by hacking...             0  \n",
       "3  Find the remainder when [math]23^{24}[/math] i...             0  \n",
       "4            Which fish would survive in salt water?             0  "
      ]
     },
     "execution_count": 5,
     "metadata": {},
     "output_type": "execute_result"
    }
   ],
   "source": [
    "trainDF.head()"
   ]
  },
  {
   "cell_type": "code",
   "execution_count": null,
   "metadata": {
    "collapsed": true
   },
   "outputs": [],
   "source": [
    "trainDF.question1 = trainDF.question1.apply(cleanQuestion)\n",
    "trainDF.question2 = trainDF.question2.apply(cleanQuestion)"
   ]
  },
  {
   "cell_type": "code",
   "execution_count": null,
   "metadata": {
    "collapsed": true
   },
   "outputs": [],
   "source": [
    "trainDF.head()"
   ]
  },
  {
   "cell_type": "code",
   "execution_count": null,
   "metadata": {
    "collapsed": true
   },
   "outputs": [],
   "source": [
    "labeledQuestions1 = getLabeledSentence(trainDF.question1.tolist(), 'question1')\n",
    "labeledQuestions2 = getLabeledSentence(trainDF.question2.tolist(), 'question2')"
   ]
  },
  {
   "cell_type": "code",
   "execution_count": null,
   "metadata": {
    "collapsed": true
   },
   "outputs": [],
   "source": [
    "model = models.Doc2Vec(alpha=.025, min_alpha=.025, min_count=1)\n",
    "labeledQuestions = labeledQuestions1 + labeledQuestions2"
   ]
  },
  {
   "cell_type": "code",
   "execution_count": null,
   "metadata": {
    "collapsed": true
   },
   "outputs": [],
   "source": [
    "model.build_vocab(labeledQuestions)"
   ]
  },
  {
   "cell_type": "code",
   "execution_count": null,
   "metadata": {
    "collapsed": true
   },
   "outputs": [],
   "source": [
    "model.train(labeledQuestions)\n",
    "# for epoch in range(10):\n",
    "#     model.train(labeledQuestions)\n",
    "#     model.alpha -= 0.002  # decrease the learning rate`\n",
    "#     model.min_alpha = model.alpha # fix the learning rate, no decay"
   ]
  },
  {
   "cell_type": "code",
   "execution_count": null,
   "metadata": {
    "collapsed": true
   },
   "outputs": [],
   "source": [
    "model.save('Models/4_22model_processed')# 35900484 for raw"
   ]
  },
  {
   "cell_type": "code",
   "execution_count": null,
   "metadata": {
    "collapsed": true
   },
   "outputs": [],
   "source": [
    "model_loaded = models.Doc2Vec.load('Models/4_8model')"
   ]
  },
  {
   "cell_type": "code",
   "execution_count": null,
   "metadata": {
    "collapsed": true
   },
   "outputs": [],
   "source": [
    "similarity = []\n",
    "for i in range(len(labeledQuestions1)):\n",
    "    similarity.append(model.docvecs.similarity('question1%d'%i, 'question2%d'%i))"
   ]
  },
  {
   "cell_type": "code",
   "execution_count": null,
   "metadata": {
    "collapsed": true
   },
   "outputs": [],
   "source": [
    "similarityDF = pd.DataFrame({'similarity': similarity})\n",
    "similarityDF['y'] = trainDF.is_duplicate"
   ]
  },
  {
   "cell_type": "code",
   "execution_count": null,
   "metadata": {
    "collapsed": true
   },
   "outputs": [],
   "source": [
    "similarityDF.head()"
   ]
  },
  {
   "cell_type": "code",
   "execution_count": null,
   "metadata": {
    "collapsed": true
   },
   "outputs": [],
   "source": [
    "#stop\n",
    "import seaborn as sns\n",
    "%matplotlib inline\n",
    "ax = sns.distplot(similarityDF[similarityDF.y==0].similarity.tolist(), hist=True, label=\"Not Duplicate\", color='red')\n",
    "ax = sns.distplot(similarityDF[similarityDF.y==1].similarity.tolist(), hist=True, label=\"Duplicate\", color='blue')\n",
    "ax.axes.set_title(\"distribution of Duplicates and non Duplicates with processing\")\n",
    "ax.legend()"
   ]
  },
  {
   "cell_type": "code",
   "execution_count": null,
   "metadata": {
    "collapsed": true
   },
   "outputs": [],
   "source": [
    "vectors1 = []\n",
    "vectors2 = []\n",
    "print \"Fetching Vectors...\"\n",
    "for i in range(len(labeledQuestions1)*2):\n",
    "    if i< len(labeledQuestions1):\n",
    "        vectors1.append(model.docvecs[i])\n",
    "    else:\n",
    "        vectors2.append(model.docvecs[i])\n",
    "import ipdb; ipdb.set_trace()\n",
    "\n",
    "vectors1 = np.asarray(vectors1)\n",
    "vectors2 = np.asarray(vectors2)\n",
    "\n",
    "labels = np.asarray(train.is_duplicate)\n"
   ]
  },
  {
   "cell_type": "code",
   "execution_count": null,
   "metadata": {
    "collapsed": true
   },
   "outputs": [],
   "source": [
    "vectorDiff ="
   ]
  }
 ],
 "metadata": {
  "anaconda-cloud": {},
  "kernelspec": {
   "display_name": "Python [default]",
   "language": "python",
   "name": "python2"
  },
  "language_info": {
   "codemirror_mode": {
    "name": "ipython",
    "version": 2
   },
   "file_extension": ".py",
   "mimetype": "text/x-python",
   "name": "python",
   "nbconvert_exporter": "python",
   "pygments_lexer": "ipython2",
   "version": "2.7.12"
  }
 },
 "nbformat": 4,
 "nbformat_minor": 1
}
